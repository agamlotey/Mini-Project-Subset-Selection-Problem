{
  "nbformat": 4,
  "nbformat_minor": 0,
  "metadata": {
    "colab": {
      "provenance": [],
      "authorship_tag": "ABX9TyNrqkt8264EPTWB/U91+ACu",
      "include_colab_link": true
    },
    "kernelspec": {
      "name": "python3",
      "display_name": "Python 3"
    },
    "language_info": {
      "name": "python"
    }
  },
  "cells": [
    {
      "cell_type": "markdown",
      "metadata": {
        "id": "view-in-github",
        "colab_type": "text"
      },
      "source": [
        "<a href=\"https://colab.research.google.com/github/agamlotey/Mini-Project-Subset-Selection-Problem/blob/main/Mini_Project_Subset_Selection_Problem.ipynb\" target=\"_parent\"><img src=\"https://colab.research.google.com/assets/colab-badge.svg\" alt=\"Open In Colab\"/></a>"
      ]
    },
    {
      "cell_type": "code",
      "metadata": {
        "colab": {
          "base_uri": "https://localhost:8080/"
        },
        "id": "c6KthRB9im14",
        "outputId": "331983c2-65c1-4033-e18b-0966276e7523"
      },
      "source": [
        "import random as r\n",
        "Set         = set([-12, -3, -6, 7, 2, -2, 6, 3, 9, -7, -5, -8, 1, 11, -9, -4])\n",
        "SetSize     = 5\n",
        "ResultList  = set()\n",
        "Iterations  = 1000\n",
        "for i in range(Iterations):\n",
        "    Chromosome = r.sample(Set,SetSize)\n",
        "    if sum(Chromosome) == 0:\n",
        "        ResultList.add(tuple(Chromosome))\n",
        "for r in ResultList:\n",
        "\tprint (r)\n",
        "print (\"\\nTotal Sets: \", len(ResultList))\n"
      ],
      "execution_count": null,
      "outputs": [
        {
          "output_type": "stream",
          "name": "stdout",
          "text": [
            "(7, 9, -4, -3, -9)\n",
            "(7, -4, 1, 2, -6)\n",
            "(-9, 1, 9, 11, -12)\n",
            "(-5, -2, -7, 3, 11)\n",
            "(-7, 7, -3, -6, 9)\n",
            "(3, -4, 2, -8, 7)\n",
            "(2, 11, -7, -12, 6)\n",
            "(1, 3, -8, -5, 9)\n",
            "(-4, 9, 1, -12, 6)\n",
            "(7, -8, 1, -6, 6)\n",
            "(9, -12, -5, 7, 1)\n",
            "(-4, -6, 7, 11, -8)\n",
            "(-5, 9, -3, 11, -12)\n",
            "(-3, 7, 3, 2, -9)\n",
            "(-12, 9, 11, -2, -6)\n",
            "(11, -3, 6, -8, -6)\n",
            "(-9, 11, 6, -3, -5)\n",
            "(9, -3, -9, -4, 7)\n",
            "(-9, 11, -6, 6, -2)\n",
            "(-5, 1, -12, 9, 7)\n",
            "(-3, 6, -2, -4, 3)\n",
            "(-3, 7, 1, 2, -7)\n",
            "(9, 3, 1, -9, -4)\n",
            "(7, -3, 6, -2, -8)\n",
            "(11, -3, -7, -4, 3)\n",
            "(-9, 1, 11, 3, -6)\n",
            "(6, -4, -6, 3, 1)\n",
            "(11, -7, -12, 6, 2)\n",
            "(9, 1, -5, 7, -12)\n",
            "(9, -4, 3, 1, -9)\n",
            "(-9, 7, -5, 1, 6)\n",
            "\n",
            "Total Sets:  31\n"
          ]
        }
      ]
    },
    {
      "cell_type": "code",
      "source": [
        "import random as r\n",
        "data_set = set([-12, -3, -6, 7, 2, -2, 6, 3, 9, -7, -5, -8, 1, 11, -9, -4])\n",
        "SetLB = 3\n",
        "SetUB = 6\n",
        "ResultList = set()\n",
        "Iterations = 1000\n",
        "for _ in range(Iterations):\n",
        "    SetSize = r.randint(SetLB, SetUB)\n",
        "    Chromosome = r.sample(list(data_set), SetSize)\n",
        "    Chromosome.sort()\n",
        "    if sum(Chromosome) == 0:\n",
        "        ResultList.add(tuple(Chromosome))\n",
        "print(\"Valid subsets (sum = 0):\\n\")\n",
        "for r in sorted(ResultList):\n",
        "    print(r)\n",
        "\n",
        "print(f\"\\nTotal Valid Subsets Found: {len(ResultList)}\")\n"
      ],
      "metadata": {
        "colab": {
          "base_uri": "https://localhost:8080/"
        },
        "id": "9I_6Tf9g2lt0",
        "outputId": "885e2048-fe08-4703-bcad-c06d028fbaf0"
      },
      "execution_count": 3,
      "outputs": [
        {
          "output_type": "stream",
          "name": "stdout",
          "text": [
            "Valid subsets (sum = 0):\n",
            "\n",
            "(-12, -8, -2, 2, 9, 11)\n",
            "(-12, -6, -2, 2, 7, 11)\n",
            "(-12, -6, 7, 11)\n",
            "(-12, -4, -2, 2, 7, 9)\n",
            "(-12, -3, 6, 9)\n",
            "(-12, 2, 3, 7)\n",
            "(-12, 3, 9)\n",
            "(-9, -8, 1, 7, 9)\n",
            "(-9, -7, -2, 2, 7, 9)\n",
            "(-9, -7, -2, 3, 6, 9)\n",
            "(-9, -7, 1, 6, 9)\n",
            "(-9, -6, -5, 2, 7, 11)\n",
            "(-9, 1, 2, 6)\n",
            "(-9, 3, 6)\n",
            "(-8, -7, 2, 6, 7)\n",
            "(-8, -7, 6, 9)\n",
            "(-8, -6, -4, -2, 9, 11)\n",
            "(-8, -6, 1, 2, 11)\n",
            "(-8, -3, 2, 3, 6)\n",
            "(-7, -5, -3, -2, 6, 11)\n",
            "(-7, -4, 1, 3, 7)\n",
            "(-7, -4, 11)\n",
            "(-7, -3, -2, 2, 3, 7)\n",
            "(-7, -3, 1, 9)\n",
            "(-7, -2, 3, 6)\n",
            "(-7, -2, 9)\n",
            "(-6, -5, 11)\n",
            "(-6, -4, -2, 3, 9)\n",
            "(-6, -4, 1, 2, 7)\n",
            "(-6, -2, 2, 6)\n",
            "(-5, -4, 2, 7)\n",
            "(-5, -3, -2, 3, 7)\n",
            "(-5, -2, 7)\n",
            "(-4, -3, -2, 1, 2, 6)\n",
            "(-4, -3, 7)\n",
            "(-4, 1, 3)\n",
            "(-3, 1, 2)\n",
            "\n",
            "Total Valid Subsets Found: 37\n"
          ]
        }
      ]
    }
  ]
}